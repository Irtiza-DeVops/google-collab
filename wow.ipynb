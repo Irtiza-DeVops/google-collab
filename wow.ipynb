{
  "nbformat": 4,
  "nbformat_minor": 0,
  "metadata": {
    "colab": {
      "provenance": [],
      "authorship_tag": "ABX9TyMe/ccopy65b3yOJGMAd2Td",
      "include_colab_link": true
    },
    "kernelspec": {
      "name": "python3",
      "display_name": "Python 3"
    },
    "language_info": {
      "name": "python"
    }
  },
  "cells": [
    {
      "cell_type": "markdown",
      "metadata": {
        "id": "view-in-github",
        "colab_type": "text"
      },
      "source": [
        "<a href=\"https://colab.research.google.com/github/Irtiza-DeVops/google-collab/blob/main/wow.ipynb\" target=\"_parent\"><img src=\"https://colab.research.google.com/assets/colab-badge.svg\" alt=\"Open In Colab\"/></a>"
      ]
    },
    {
      "cell_type": "code",
      "execution_count": null,
      "metadata": {
        "id": "Bx8fcr5UHXTg",
        "colab": {
          "base_uri": "https://localhost:8080/"
        },
        "outputId": "9cd28e77-b9f6-4e82-f36f-511870e46ed7"
      },
      "outputs": [
        {
          "output_type": "stream",
          "name": "stdout",
          "text": [
            "Why did the golfer wear two pairs of pants? In case he got a hole-in-one!\n"
          ]
        }
      ],
      "source": [
        "# prompt: create a funny program\n",
        "\n",
        "import random\n",
        "\n",
        "def tell_joke():\n",
        "  jokes = [\n",
        "    \"Why did the scarecrow win an award? Because he was outstanding in his field!\",\n",
        "    \"What do you call a lazy kangaroo? A pouch potato!\",\n",
        "    \"Why did the golfer wear two pairs of pants? In case he got a hole-in-one!\"\n",
        "  ]\n",
        "  print(random.choice(jokes))\n",
        "\n",
        "tell_joke()\n"
      ]
    }
  ]
}